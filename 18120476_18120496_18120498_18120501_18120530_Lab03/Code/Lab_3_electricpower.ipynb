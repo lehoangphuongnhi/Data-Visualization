{
 "cells": [
  {
   "cell_type": "code",
   "execution_count": 1,
   "metadata": {},
   "outputs": [],
   "source": [
    "import pandas as pd\n",
    "import matplotlib.pyplot as plt\n",
    "import numpy as np\n",
    "from datetime import datetime\n",
    "import datetime\n",
    "import matplotlib.dates as mdates\n"
   ]
  },
  {
   "cell_type": "markdown",
   "metadata": {},
   "source": [
    "# Khám phá dữ liệu\n",
    "**Đọc file dữ liệu**"
   ]
  },
  {
   "cell_type": "code",
   "execution_count": 2,
   "metadata": {},
   "outputs": [
    {
     "name": "stderr",
     "output_type": "stream",
     "text": [
      "C:\\Users\\Dell\\anaconda3\\lib\\site-packages\\IPython\\core\\interactiveshell.py:3146: DtypeWarning: Columns (2,3,4,5,6,7) have mixed types.Specify dtype option on import or set low_memory=False.\n",
      "  has_raised = await self.run_ast_nodes(code_ast.body, cell_name,\n"
     ]
    }
   ],
   "source": [
    "df = pd.read_csv(\"household_power_consumption.txt\",sep = ';')"
   ]
  },
  {
   "cell_type": "code",
   "execution_count": 3,
   "metadata": {},
   "outputs": [
    {
     "data": {
      "text/html": [
       "<div>\n",
       "<style scoped>\n",
       "    .dataframe tbody tr th:only-of-type {\n",
       "        vertical-align: middle;\n",
       "    }\n",
       "\n",
       "    .dataframe tbody tr th {\n",
       "        vertical-align: top;\n",
       "    }\n",
       "\n",
       "    .dataframe thead th {\n",
       "        text-align: right;\n",
       "    }\n",
       "</style>\n",
       "<table border=\"1\" class=\"dataframe\">\n",
       "  <thead>\n",
       "    <tr style=\"text-align: right;\">\n",
       "      <th></th>\n",
       "      <th>Date</th>\n",
       "      <th>Time</th>\n",
       "      <th>Global_active_power</th>\n",
       "      <th>Global_reactive_power</th>\n",
       "      <th>Voltage</th>\n",
       "      <th>Global_intensity</th>\n",
       "      <th>Sub_metering_1</th>\n",
       "      <th>Sub_metering_2</th>\n",
       "      <th>Sub_metering_3</th>\n",
       "    </tr>\n",
       "  </thead>\n",
       "  <tbody>\n",
       "    <tr>\n",
       "      <th>0</th>\n",
       "      <td>16/12/2006</td>\n",
       "      <td>17:24:00</td>\n",
       "      <td>4.216</td>\n",
       "      <td>0.418</td>\n",
       "      <td>234.840</td>\n",
       "      <td>18.400</td>\n",
       "      <td>0.000</td>\n",
       "      <td>1.000</td>\n",
       "      <td>17.0</td>\n",
       "    </tr>\n",
       "    <tr>\n",
       "      <th>1</th>\n",
       "      <td>16/12/2006</td>\n",
       "      <td>17:25:00</td>\n",
       "      <td>5.360</td>\n",
       "      <td>0.436</td>\n",
       "      <td>233.630</td>\n",
       "      <td>23.000</td>\n",
       "      <td>0.000</td>\n",
       "      <td>1.000</td>\n",
       "      <td>16.0</td>\n",
       "    </tr>\n",
       "    <tr>\n",
       "      <th>2</th>\n",
       "      <td>16/12/2006</td>\n",
       "      <td>17:26:00</td>\n",
       "      <td>5.374</td>\n",
       "      <td>0.498</td>\n",
       "      <td>233.290</td>\n",
       "      <td>23.000</td>\n",
       "      <td>0.000</td>\n",
       "      <td>2.000</td>\n",
       "      <td>17.0</td>\n",
       "    </tr>\n",
       "    <tr>\n",
       "      <th>3</th>\n",
       "      <td>16/12/2006</td>\n",
       "      <td>17:27:00</td>\n",
       "      <td>5.388</td>\n",
       "      <td>0.502</td>\n",
       "      <td>233.740</td>\n",
       "      <td>23.000</td>\n",
       "      <td>0.000</td>\n",
       "      <td>1.000</td>\n",
       "      <td>17.0</td>\n",
       "    </tr>\n",
       "    <tr>\n",
       "      <th>4</th>\n",
       "      <td>16/12/2006</td>\n",
       "      <td>17:28:00</td>\n",
       "      <td>3.666</td>\n",
       "      <td>0.528</td>\n",
       "      <td>235.680</td>\n",
       "      <td>15.800</td>\n",
       "      <td>0.000</td>\n",
       "      <td>1.000</td>\n",
       "      <td>17.0</td>\n",
       "    </tr>\n",
       "  </tbody>\n",
       "</table>\n",
       "</div>"
      ],
      "text/plain": [
       "         Date      Time Global_active_power Global_reactive_power  Voltage  \\\n",
       "0  16/12/2006  17:24:00               4.216                 0.418  234.840   \n",
       "1  16/12/2006  17:25:00               5.360                 0.436  233.630   \n",
       "2  16/12/2006  17:26:00               5.374                 0.498  233.290   \n",
       "3  16/12/2006  17:27:00               5.388                 0.502  233.740   \n",
       "4  16/12/2006  17:28:00               3.666                 0.528  235.680   \n",
       "\n",
       "  Global_intensity Sub_metering_1 Sub_metering_2  Sub_metering_3  \n",
       "0           18.400          0.000          1.000            17.0  \n",
       "1           23.000          0.000          1.000            16.0  \n",
       "2           23.000          0.000          2.000            17.0  \n",
       "3           23.000          0.000          1.000            17.0  \n",
       "4           15.800          0.000          1.000            17.0  "
      ]
     },
     "execution_count": 3,
     "metadata": {},
     "output_type": "execute_result"
    }
   ],
   "source": [
    "df.head()"
   ]
  },
  {
   "cell_type": "markdown",
   "metadata": {},
   "source": [
    "**Kiểm tra kiểu dữ liệu**"
   ]
  },
  {
   "cell_type": "code",
   "execution_count": 4,
   "metadata": {},
   "outputs": [
    {
     "name": "stdout",
     "output_type": "stream",
     "text": [
      "<class 'pandas.core.frame.DataFrame'>\n",
      "RangeIndex: 2075259 entries, 0 to 2075258\n",
      "Data columns (total 9 columns):\n",
      " #   Column                 Dtype  \n",
      "---  ------                 -----  \n",
      " 0   Date                   object \n",
      " 1   Time                   object \n",
      " 2   Global_active_power    object \n",
      " 3   Global_reactive_power  object \n",
      " 4   Voltage                object \n",
      " 5   Global_intensity       object \n",
      " 6   Sub_metering_1         object \n",
      " 7   Sub_metering_2         object \n",
      " 8   Sub_metering_3         float64\n",
      "dtypes: float64(1), object(8)\n",
      "memory usage: 142.5+ MB\n"
     ]
    }
   ],
   "source": [
    "df.info()"
   ]
  },
  {
   "cell_type": "markdown",
   "metadata": {},
   "source": [
    "---\n",
    "# Tiền xử lí\n",
    "**Chọn dữ liệu trong hai ngày 2-2-2007 và 1-2-2007**"
   ]
  },
  {
   "cell_type": "code",
   "execution_count": 5,
   "metadata": {},
   "outputs": [],
   "source": [
    "df = df[(df.Date == '2/2/2007') | (df.Date == '1/2/2007')]"
   ]
  },
  {
   "cell_type": "code",
   "execution_count": 6,
   "metadata": {},
   "outputs": [
    {
     "data": {
      "text/html": [
       "<div>\n",
       "<style scoped>\n",
       "    .dataframe tbody tr th:only-of-type {\n",
       "        vertical-align: middle;\n",
       "    }\n",
       "\n",
       "    .dataframe tbody tr th {\n",
       "        vertical-align: top;\n",
       "    }\n",
       "\n",
       "    .dataframe thead th {\n",
       "        text-align: right;\n",
       "    }\n",
       "</style>\n",
       "<table border=\"1\" class=\"dataframe\">\n",
       "  <thead>\n",
       "    <tr style=\"text-align: right;\">\n",
       "      <th></th>\n",
       "      <th>Date</th>\n",
       "      <th>Time</th>\n",
       "      <th>Global_active_power</th>\n",
       "      <th>Global_reactive_power</th>\n",
       "      <th>Voltage</th>\n",
       "      <th>Global_intensity</th>\n",
       "      <th>Sub_metering_1</th>\n",
       "      <th>Sub_metering_2</th>\n",
       "      <th>Sub_metering_3</th>\n",
       "    </tr>\n",
       "  </thead>\n",
       "  <tbody>\n",
       "    <tr>\n",
       "      <th>66636</th>\n",
       "      <td>1/2/2007</td>\n",
       "      <td>00:00:00</td>\n",
       "      <td>0.326</td>\n",
       "      <td>0.128</td>\n",
       "      <td>243.150</td>\n",
       "      <td>1.400</td>\n",
       "      <td>0.000</td>\n",
       "      <td>0.000</td>\n",
       "      <td>0.0</td>\n",
       "    </tr>\n",
       "    <tr>\n",
       "      <th>66637</th>\n",
       "      <td>1/2/2007</td>\n",
       "      <td>00:01:00</td>\n",
       "      <td>0.326</td>\n",
       "      <td>0.130</td>\n",
       "      <td>243.320</td>\n",
       "      <td>1.400</td>\n",
       "      <td>0.000</td>\n",
       "      <td>0.000</td>\n",
       "      <td>0.0</td>\n",
       "    </tr>\n",
       "    <tr>\n",
       "      <th>66638</th>\n",
       "      <td>1/2/2007</td>\n",
       "      <td>00:02:00</td>\n",
       "      <td>0.324</td>\n",
       "      <td>0.132</td>\n",
       "      <td>243.510</td>\n",
       "      <td>1.400</td>\n",
       "      <td>0.000</td>\n",
       "      <td>0.000</td>\n",
       "      <td>0.0</td>\n",
       "    </tr>\n",
       "    <tr>\n",
       "      <th>66639</th>\n",
       "      <td>1/2/2007</td>\n",
       "      <td>00:03:00</td>\n",
       "      <td>0.324</td>\n",
       "      <td>0.134</td>\n",
       "      <td>243.900</td>\n",
       "      <td>1.400</td>\n",
       "      <td>0.000</td>\n",
       "      <td>0.000</td>\n",
       "      <td>0.0</td>\n",
       "    </tr>\n",
       "    <tr>\n",
       "      <th>66640</th>\n",
       "      <td>1/2/2007</td>\n",
       "      <td>00:04:00</td>\n",
       "      <td>0.322</td>\n",
       "      <td>0.130</td>\n",
       "      <td>243.160</td>\n",
       "      <td>1.400</td>\n",
       "      <td>0.000</td>\n",
       "      <td>0.000</td>\n",
       "      <td>0.0</td>\n",
       "    </tr>\n",
       "    <tr>\n",
       "      <th>...</th>\n",
       "      <td>...</td>\n",
       "      <td>...</td>\n",
       "      <td>...</td>\n",
       "      <td>...</td>\n",
       "      <td>...</td>\n",
       "      <td>...</td>\n",
       "      <td>...</td>\n",
       "      <td>...</td>\n",
       "      <td>...</td>\n",
       "    </tr>\n",
       "    <tr>\n",
       "      <th>69511</th>\n",
       "      <td>2/2/2007</td>\n",
       "      <td>23:55:00</td>\n",
       "      <td>3.696</td>\n",
       "      <td>0.226</td>\n",
       "      <td>240.900</td>\n",
       "      <td>15.200</td>\n",
       "      <td>0.000</td>\n",
       "      <td>1.000</td>\n",
       "      <td>18.0</td>\n",
       "    </tr>\n",
       "    <tr>\n",
       "      <th>69512</th>\n",
       "      <td>2/2/2007</td>\n",
       "      <td>23:56:00</td>\n",
       "      <td>3.698</td>\n",
       "      <td>0.226</td>\n",
       "      <td>241.020</td>\n",
       "      <td>15.200</td>\n",
       "      <td>0.000</td>\n",
       "      <td>2.000</td>\n",
       "      <td>18.0</td>\n",
       "    </tr>\n",
       "    <tr>\n",
       "      <th>69513</th>\n",
       "      <td>2/2/2007</td>\n",
       "      <td>23:57:00</td>\n",
       "      <td>3.684</td>\n",
       "      <td>0.224</td>\n",
       "      <td>240.480</td>\n",
       "      <td>15.200</td>\n",
       "      <td>0.000</td>\n",
       "      <td>1.000</td>\n",
       "      <td>18.0</td>\n",
       "    </tr>\n",
       "    <tr>\n",
       "      <th>69514</th>\n",
       "      <td>2/2/2007</td>\n",
       "      <td>23:58:00</td>\n",
       "      <td>3.658</td>\n",
       "      <td>0.220</td>\n",
       "      <td>239.610</td>\n",
       "      <td>15.200</td>\n",
       "      <td>0.000</td>\n",
       "      <td>1.000</td>\n",
       "      <td>17.0</td>\n",
       "    </tr>\n",
       "    <tr>\n",
       "      <th>69515</th>\n",
       "      <td>2/2/2007</td>\n",
       "      <td>23:59:00</td>\n",
       "      <td>3.680</td>\n",
       "      <td>0.224</td>\n",
       "      <td>240.370</td>\n",
       "      <td>15.200</td>\n",
       "      <td>0.000</td>\n",
       "      <td>2.000</td>\n",
       "      <td>18.0</td>\n",
       "    </tr>\n",
       "  </tbody>\n",
       "</table>\n",
       "<p>2880 rows × 9 columns</p>\n",
       "</div>"
      ],
      "text/plain": [
       "           Date      Time Global_active_power Global_reactive_power  Voltage  \\\n",
       "66636  1/2/2007  00:00:00               0.326                 0.128  243.150   \n",
       "66637  1/2/2007  00:01:00               0.326                 0.130  243.320   \n",
       "66638  1/2/2007  00:02:00               0.324                 0.132  243.510   \n",
       "66639  1/2/2007  00:03:00               0.324                 0.134  243.900   \n",
       "66640  1/2/2007  00:04:00               0.322                 0.130  243.160   \n",
       "...         ...       ...                 ...                   ...      ...   \n",
       "69511  2/2/2007  23:55:00               3.696                 0.226  240.900   \n",
       "69512  2/2/2007  23:56:00               3.698                 0.226  241.020   \n",
       "69513  2/2/2007  23:57:00               3.684                 0.224  240.480   \n",
       "69514  2/2/2007  23:58:00               3.658                 0.220  239.610   \n",
       "69515  2/2/2007  23:59:00               3.680                 0.224  240.370   \n",
       "\n",
       "      Global_intensity Sub_metering_1 Sub_metering_2  Sub_metering_3  \n",
       "66636            1.400          0.000          0.000             0.0  \n",
       "66637            1.400          0.000          0.000             0.0  \n",
       "66638            1.400          0.000          0.000             0.0  \n",
       "66639            1.400          0.000          0.000             0.0  \n",
       "66640            1.400          0.000          0.000             0.0  \n",
       "...                ...            ...            ...             ...  \n",
       "69511           15.200          0.000          1.000            18.0  \n",
       "69512           15.200          0.000          2.000            18.0  \n",
       "69513           15.200          0.000          1.000            18.0  \n",
       "69514           15.200          0.000          1.000            17.0  \n",
       "69515           15.200          0.000          2.000            18.0  \n",
       "\n",
       "[2880 rows x 9 columns]"
      ]
     },
     "execution_count": 6,
     "metadata": {},
     "output_type": "execute_result"
    }
   ],
   "source": [
    "df"
   ]
  },
  {
   "cell_type": "markdown",
   "metadata": {},
   "source": [
    "**Đưa về đúng định dạng**\n",
    "- Chuyển những cột `'Global_active_power'` , `'Global_reactive_power'` , `'Voltage'` ,`'Global_intensity'` ,`'Sub_metering_1'` ,`'Sub_metering_2'` sang định dạng số"
   ]
  },
  {
   "cell_type": "code",
   "execution_count": 7,
   "metadata": {},
   "outputs": [],
   "source": [
    "col_num = ['Global_active_power','Global_reactive_power', 'Voltage','Global_intensity','Sub_metering_1','Sub_metering_2']\n",
    "for col in col_num:\n",
    "    df[col] = pd.to_numeric(df[col], errors = 'coerce')"
   ]
  },
  {
   "cell_type": "markdown",
   "metadata": {},
   "source": [
    "# Khám phá dữ liệu\n",
    "**Kiểm tra kiểu dữ liệu**"
   ]
  },
  {
   "cell_type": "code",
   "execution_count": 8,
   "metadata": {},
   "outputs": [
    {
     "name": "stdout",
     "output_type": "stream",
     "text": [
      "<class 'pandas.core.frame.DataFrame'>\n",
      "Int64Index: 2880 entries, 66636 to 69515\n",
      "Data columns (total 9 columns):\n",
      " #   Column                 Non-Null Count  Dtype  \n",
      "---  ------                 --------------  -----  \n",
      " 0   Date                   2880 non-null   object \n",
      " 1   Time                   2880 non-null   object \n",
      " 2   Global_active_power    2880 non-null   float64\n",
      " 3   Global_reactive_power  2880 non-null   float64\n",
      " 4   Voltage                2880 non-null   float64\n",
      " 5   Global_intensity       2880 non-null   float64\n",
      " 6   Sub_metering_1         2880 non-null   float64\n",
      " 7   Sub_metering_2         2880 non-null   float64\n",
      " 8   Sub_metering_3         2880 non-null   float64\n",
      "dtypes: float64(7), object(2)\n",
      "memory usage: 225.0+ KB\n"
     ]
    }
   ],
   "source": [
    "df.info()"
   ]
  },
  {
   "cell_type": "markdown",
   "metadata": {},
   "source": [
    "---\n",
    "# Vẽ hình \n",
    "**Plot1**"
   ]
  },
  {
   "cell_type": "code",
   "execution_count": 9,
   "metadata": {},
   "outputs": [
    {
     "data": {
      "image/png": "[encoded data removed]",
      "text/plain": [
       "<Figure size 432x288 with 1 Axes>"
      ]
     },
     "metadata": {
      "needs_background": "light"
     },
     "output_type": "display_data"
    }
   ],
   "source": [
    "def plot1(ax=None):\n",
    "    if ax==None:\n",
    "        fig, ax = plt.subplots()\n",
    "        check = False\n",
    "    if ax!= None:\n",
    "        check = True\n",
    "    ax.hist(df['Global_active_power'],color = 'red',edgecolor='black')\n",
    "    ax.set_xlabel(\"Global Active Power (kilowatts)\")\n",
    "    ax.set_ylabel(\"Frecency\")\n",
    "    plt.savefig(\"plot1.png\")\n",
    "plot1()"
   ]
  },
  {
   "cell_type": "markdown",
   "metadata": {},
   "source": [
    "**Plot2, plot4, plot5**\n",
    "- vì các plot đều thể mối quan hệ `'Global_active_power'` , `'Global_reactive_power'` , `'Voltage'` ,`'Global_intensity'` ,`'Sub_metering_1'` ,`'Sub_metering_2'` qua thời gian,vì vậy thực hiện các bước sau:\n",
    "    - Thêm một cột `date_time` thể hiện ngày và giờ của dữ liệu\n",
    "    - `date_time` thành index của dataframe"
   ]
  },
  {
   "cell_type": "code",
   "execution_count": 10,
   "metadata": {},
   "outputs": [],
   "source": [
    "df1= df"
   ]
  },
  {
   "cell_type": "code",
   "execution_count": 11,
   "metadata": {},
   "outputs": [],
   "source": [
    "df1['date_time'] = pd.to_datetime(df1['Date'] + df1['Time'], format = '%d/%m/%Y%H:%M:%S')"
   ]
  },
  {
   "cell_type": "code",
   "execution_count": 12,
   "metadata": {},
   "outputs": [],
   "source": [
    "df1.set_index('date_time', inplace = True)"
   ]
  },
  {
   "cell_type": "code",
   "execution_count": 13,
   "metadata": {},
   "outputs": [
    {
     "data": {
      "text/html": [
       "<div>\n",
       "<style scoped>\n",
       "    .dataframe tbody tr th:only-of-type {\n",
       "        vertical-align: middle;\n",
       "    }\n",
       "\n",
       "    .dataframe tbody tr th {\n",
       "        vertical-align: top;\n",
       "    }\n",
       "\n",
       "    .dataframe thead th {\n",
       "        text-align: right;\n",
       "    }\n",
       "</style>\n",
       "<table border=\"1\" class=\"dataframe\">\n",
       "  <thead>\n",
       "    <tr style=\"text-align: right;\">\n",
       "      <th></th>\n",
       "      <th>Date</th>\n",
       "      <th>Time</th>\n",
       "      <th>Global_active_power</th>\n",
       "      <th>Global_reactive_power</th>\n",
       "      <th>Voltage</th>\n",
       "      <th>Global_intensity</th>\n",
       "      <th>Sub_metering_1</th>\n",
       "      <th>Sub_metering_2</th>\n",
       "      <th>Sub_metering_3</th>\n",
       "    </tr>\n",
       "    <tr>\n",
       "      <th>date_time</th>\n",
       "      <th></th>\n",
       "      <th></th>\n",
       "      <th></th>\n",
       "      <th></th>\n",
       "      <th></th>\n",
       "      <th></th>\n",
       "      <th></th>\n",
       "      <th></th>\n",
       "      <th></th>\n",
       "    </tr>\n",
       "  </thead>\n",
       "  <tbody>\n",
       "    <tr>\n",
       "      <th>2007-02-01 00:00:00</th>\n",
       "      <td>1/2/2007</td>\n",
       "      <td>00:00:00</td>\n",
       "      <td>0.326</td>\n",
       "      <td>0.128</td>\n",
       "      <td>243.15</td>\n",
       "      <td>1.4</td>\n",
       "      <td>0.0</td>\n",
       "      <td>0.0</td>\n",
       "      <td>0.0</td>\n",
       "    </tr>\n",
       "    <tr>\n",
       "      <th>2007-02-01 00:01:00</th>\n",
       "      <td>1/2/2007</td>\n",
       "      <td>00:01:00</td>\n",
       "      <td>0.326</td>\n",
       "      <td>0.130</td>\n",
       "      <td>243.32</td>\n",
       "      <td>1.4</td>\n",
       "      <td>0.0</td>\n",
       "      <td>0.0</td>\n",
       "      <td>0.0</td>\n",
       "    </tr>\n",
       "    <tr>\n",
       "      <th>2007-02-01 00:02:00</th>\n",
       "      <td>1/2/2007</td>\n",
       "      <td>00:02:00</td>\n",
       "      <td>0.324</td>\n",
       "      <td>0.132</td>\n",
       "      <td>243.51</td>\n",
       "      <td>1.4</td>\n",
       "      <td>0.0</td>\n",
       "      <td>0.0</td>\n",
       "      <td>0.0</td>\n",
       "    </tr>\n",
       "    <tr>\n",
       "      <th>2007-02-01 00:03:00</th>\n",
       "      <td>1/2/2007</td>\n",
       "      <td>00:03:00</td>\n",
       "      <td>0.324</td>\n",
       "      <td>0.134</td>\n",
       "      <td>243.90</td>\n",
       "      <td>1.4</td>\n",
       "      <td>0.0</td>\n",
       "      <td>0.0</td>\n",
       "      <td>0.0</td>\n",
       "    </tr>\n",
       "    <tr>\n",
       "      <th>2007-02-01 00:04:00</th>\n",
       "      <td>1/2/2007</td>\n",
       "      <td>00:04:00</td>\n",
       "      <td>0.322</td>\n",
       "      <td>0.130</td>\n",
       "      <td>243.16</td>\n",
       "      <td>1.4</td>\n",
       "      <td>0.0</td>\n",
       "      <td>0.0</td>\n",
       "      <td>0.0</td>\n",
       "    </tr>\n",
       "    <tr>\n",
       "      <th>...</th>\n",
       "      <td>...</td>\n",
       "      <td>...</td>\n",
       "      <td>...</td>\n",
       "      <td>...</td>\n",
       "      <td>...</td>\n",
       "      <td>...</td>\n",
       "      <td>...</td>\n",
       "      <td>...</td>\n",
       "      <td>...</td>\n",
       "    </tr>\n",
       "    <tr>\n",
       "      <th>2007-02-02 23:55:00</th>\n",
       "      <td>2/2/2007</td>\n",
       "      <td>23:55:00</td>\n",
       "      <td>3.696</td>\n",
       "      <td>0.226</td>\n",
       "      <td>240.90</td>\n",
       "      <td>15.2</td>\n",
       "      <td>0.0</td>\n",
       "      <td>1.0</td>\n",
       "      <td>18.0</td>\n",
       "    </tr>\n",
       "    <tr>\n",
       "      <th>2007-02-02 23:56:00</th>\n",
       "      <td>2/2/2007</td>\n",
       "      <td>23:56:00</td>\n",
       "      <td>3.698</td>\n",
       "      <td>0.226</td>\n",
       "      <td>241.02</td>\n",
       "      <td>15.2</td>\n",
       "      <td>0.0</td>\n",
       "      <td>2.0</td>\n",
       "      <td>18.0</td>\n",
       "    </tr>\n",
       "    <tr>\n",
       "      <th>2007-02-02 23:57:00</th>\n",
       "      <td>2/2/2007</td>\n",
       "      <td>23:57:00</td>\n",
       "      <td>3.684</td>\n",
       "      <td>0.224</td>\n",
       "      <td>240.48</td>\n",
       "      <td>15.2</td>\n",
       "      <td>0.0</td>\n",
       "      <td>1.0</td>\n",
       "      <td>18.0</td>\n",
       "    </tr>\n",
       "    <tr>\n",
       "      <th>2007-02-02 23:58:00</th>\n",
       "      <td>2/2/2007</td>\n",
       "      <td>23:58:00</td>\n",
       "      <td>3.658</td>\n",
       "      <td>0.220</td>\n",
       "      <td>239.61</td>\n",
       "      <td>15.2</td>\n",
       "      <td>0.0</td>\n",
       "      <td>1.0</td>\n",
       "      <td>17.0</td>\n",
       "    </tr>\n",
       "    <tr>\n",
       "      <th>2007-02-02 23:59:00</th>\n",
       "      <td>2/2/2007</td>\n",
       "      <td>23:59:00</td>\n",
       "      <td>3.680</td>\n",
       "      <td>0.224</td>\n",
       "      <td>240.37</td>\n",
       "      <td>15.2</td>\n",
       "      <td>0.0</td>\n",
       "      <td>2.0</td>\n",
       "      <td>18.0</td>\n",
       "    </tr>\n",
       "  </tbody>\n",
       "</table>\n",
       "<p>2880 rows × 9 columns</p>\n",
       "</div>"
      ],
      "text/plain": [
       "                         Date      Time  Global_active_power  \\\n",
       "date_time                                                      \n",
       "2007-02-01 00:00:00  1/2/2007  00:00:00                0.326   \n",
       "2007-02-01 00:01:00  1/2/2007  00:01:00                0.326   \n",
       "2007-02-01 00:02:00  1/2/2007  00:02:00                0.324   \n",
       "2007-02-01 00:03:00  1/2/2007  00:03:00                0.324   \n",
       "2007-02-01 00:04:00  1/2/2007  00:04:00                0.322   \n",
       "...                       ...       ...                  ...   \n",
       "2007-02-02 23:55:00  2/2/2007  23:55:00                3.696   \n",
       "2007-02-02 23:56:00  2/2/2007  23:56:00                3.698   \n",
       "2007-02-02 23:57:00  2/2/2007  23:57:00                3.684   \n",
       "2007-02-02 23:58:00  2/2/2007  23:58:00                3.658   \n",
       "2007-02-02 23:59:00  2/2/2007  23:59:00                3.680   \n",
       "\n",
       "                     Global_reactive_power  Voltage  Global_intensity  \\\n",
       "date_time                                                               \n",
       "2007-02-01 00:00:00                  0.128   243.15               1.4   \n",
       "2007-02-01 00:01:00                  0.130   243.32               1.4   \n",
       "2007-02-01 00:02:00                  0.132   243.51               1.4   \n",
       "2007-02-01 00:03:00                  0.134   243.90               1.4   \n",
       "2007-02-01 00:04:00                  0.130   243.16               1.4   \n",
       "...                                    ...      ...               ...   \n",
       "2007-02-02 23:55:00                  0.226   240.90              15.2   \n",
       "2007-02-02 23:56:00                  0.226   241.02              15.2   \n",
       "2007-02-02 23:57:00                  0.224   240.48              15.2   \n",
       "2007-02-02 23:58:00                  0.220   239.61              15.2   \n",
       "2007-02-02 23:59:00                  0.224   240.37              15.2   \n",
       "\n",
       "                     Sub_metering_1  Sub_metering_2  Sub_metering_3  \n",
       "date_time                                                            \n",
       "2007-02-01 00:00:00             0.0             0.0             0.0  \n",
       "2007-02-01 00:01:00             0.0             0.0             0.0  \n",
       "2007-02-01 00:02:00             0.0             0.0             0.0  \n",
       "2007-02-01 00:03:00             0.0             0.0             0.0  \n",
       "2007-02-01 00:04:00             0.0             0.0             0.0  \n",
       "...                             ...             ...             ...  \n",
       "2007-02-02 23:55:00             0.0             1.0            18.0  \n",
       "2007-02-02 23:56:00             0.0             2.0            18.0  \n",
       "2007-02-02 23:57:00             0.0             1.0            18.0  \n",
       "2007-02-02 23:58:00             0.0             1.0            17.0  \n",
       "2007-02-02 23:59:00             0.0             2.0            18.0  \n",
       "\n",
       "[2880 rows x 9 columns]"
      ]
     },
     "execution_count": 13,
     "metadata": {},
     "output_type": "execute_result"
    }
   ],
   "source": [
    "df1"
   ]
  },
  {
   "cell_type": "markdown",
   "metadata": {},
   "source": [
    "**Plot2**"
   ]
  },
  {
   "cell_type": "code",
   "execution_count": 14,
   "metadata": {},
   "outputs": [
    {
     "data": {
      "image/png": "[encoded data removed]",
      "text/plain": [
       "<Figure size 432x288 with 1 Axes>"
      ]
     },
     "metadata": {
      "needs_background": "light"
     },
     "output_type": "display_data"
    }
   ],
   "source": [
    "def plot2(ax = None):\n",
    "    if ax == None:\n",
    "        fig, ax = plt.subplots()\n",
    "        check = False\n",
    "    else: \n",
    "        check = True\n",
    "    ax.plot(df1['Global_active_power'],'black')\n",
    "    ax.xaxis.set_major_formatter(mdates.DateFormatter('%a'))\n",
    "    for i in [1,2,3,5,6,7]:\n",
    "        ax.xaxis.get_major_ticks()[i].set_visible(False)  \n",
    "    for i in [2,4,6,8]: \n",
    "        ax.yaxis.get_major_ticks()[i].set_visible(False)\n",
    "    ax.set_ylabel('Global_active_power (kilowatts)')\n",
    "    if check == False:\n",
    "        plt.savefig('plot2.png')\n",
    "plot2()"
   ]
  },
  {
   "cell_type": "markdown",
   "metadata": {},
   "source": [
    "**Plot3**"
   ]
  },
  {
   "cell_type": "code",
   "execution_count": 15,
   "metadata": {},
   "outputs": [
    {
     "data": {
      "image/png": "[encoded data removed]",
      "text/plain": [
       "<Figure size 432x288 with 1 Axes>"
      ]
     },
     "metadata": {
      "needs_background": "light"
     },
     "output_type": "display_data"
    }
   ],
   "source": [
    "def plot3(ax = None):\n",
    "    if ax == None:\n",
    "        fig, ax = plt.subplots()\n",
    "        check = False\n",
    "    else: \n",
    "        check = True\n",
    "    ax.plot(df1['Sub_metering_1'],'black', label = 'Sub_metering_1')\n",
    "    ax.plot(df1['Sub_metering_2'],'r', label = 'Sub_metering_2')\n",
    "    ax.plot(df1['Sub_metering_3'],'blue', label = 'Sub_metering_3')\n",
    "    ax.xaxis.set_major_formatter(mdates.DateFormatter('%a'))\n",
    "    for i in [1,2,3,5,6,7]:\n",
    "        ax.xaxis.get_major_ticks()[i].set_visible(False)  \n",
    "    for i in [2,4,6,8]: \n",
    "        ax.yaxis.get_major_ticks()[i].set_visible(False)\n",
    "    ax.set_ylabel('Energy sub metering')\n",
    "    ax.legend()\n",
    "    if check == False:\n",
    "        ## lưu hình vẽ\n",
    "        plt.savefig('plot3.png')\n",
    "plot3()"
   ]
  },
  {
   "cell_type": "markdown",
   "metadata": {},
   "source": [
    "**Plot5, plot6**: là các biểu đồ trong plot4"
   ]
  },
  {
   "cell_type": "code",
   "execution_count": 16,
   "metadata": {},
   "outputs": [],
   "source": [
    "def plot5(ax = None):\n",
    "    if ax == None:\n",
    "        fig, ax = plt.subplots()\n",
    "    ax.plot(df1['Voltage'],'black')\n",
    "    ax.xaxis.set_major_formatter(mdates.DateFormatter('%a'))\n",
    "    for i in [1,2,3,5,6,7]:\n",
    "        ax.xaxis.get_major_ticks()[i].set_visible(False)  \n",
    "    for i in [2,4,6]: \n",
    "        ax.yaxis.get_major_ticks()[i].set_visible(False)\n",
    "    ax.set_ylabel('Voltage')\n",
    "    ax.set_xlabel('datetime')"
   ]
  },
  {
   "cell_type": "code",
   "execution_count": 17,
   "metadata": {},
   "outputs": [],
   "source": [
    "def plot6(ax = None):\n",
    "    if ax == None:\n",
    "        fig, ax = plt.subplots()\n",
    "    ax.plot(df1['Global_reactive_power'],'black')\n",
    "    ax.xaxis.set_major_formatter(mdates.DateFormatter('%a'))\n",
    "    for i in [1,2,3,5,6,7]:\n",
    "        ax.xaxis.get_major_ticks()[i].set_visible(False)  \n",
    "    ax.set_ylabel('Global_reactive_power')"
   ]
  },
  {
   "cell_type": "markdown",
   "metadata": {},
   "source": [
    "**Plot4**"
   ]
  },
  {
   "cell_type": "code",
   "execution_count": 18,
   "metadata": {},
   "outputs": [
    {
     "data": {
      "image/png": "[encoded data removed]",
      "text/plain": [
       "<Figure size 1080x720 with 4 Axes>"
      ]
     },
     "metadata": {
      "needs_background": "light"
     },
     "output_type": "display_data"
    }
   ],
   "source": [
    "def plot4():\n",
    "    plt.rcParams[\"figure.figsize\"] = (15,10)\n",
    "    fig, ax = plt.subplots(2,2)\n",
    "    plot2(ax[0][0])\n",
    "    plot5(ax[0][1])\n",
    "    plot3(ax[1][0])\n",
    "    plot6(ax[1][1])\n",
    "    plt.savefig('plot4.png')\n",
    "plot4()\n",
    "## lưu hình vẽ "
   ]
  }
 ],
 "metadata": {
  "kernelspec": {
   "display_name": "Python 3",
   "language": "python",
   "name": "python3"
  },
  "language_info": {
   "codemirror_mode": {
    "name": "ipython",
    "version": 3
   },
   "file_extension": ".py",
   "mimetype": "text/x-python",
   "name": "python",
   "nbconvert_exporter": "python",
   "pygments_lexer": "ipython3",
   "version": "3.8.5"
  }
 },
 "nbformat": 4,
 "nbformat_minor": 4
}
