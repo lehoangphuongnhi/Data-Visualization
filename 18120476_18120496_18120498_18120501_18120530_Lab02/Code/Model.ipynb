{
 "cells": [
  {
   "cell_type": "code",
   "execution_count": 1,
   "metadata": {},
   "outputs": [],
   "source": [
    "import pandas as pd\n",
    "from sklearn.pipeline import Pipeline, make_pipeline\n",
    "from sklearn.compose import ColumnTransformer, make_column_transformer\n",
    "from sklearn.impute import SimpleImputer\n",
    "from sklearn.base import BaseEstimator, TransformerMixin\n",
    "from sklearn.model_selection import train_test_split, GridSearchCV\n",
    "from sklearn.preprocessing import OneHotEncoder, StandardScaler\n",
    "from sklearn.linear_model import LinearRegression\n",
    "from sklearn.linear_model import LogisticRegression\n",
    "from sklearn import svm"
   ]
  },
  {
   "cell_type": "markdown",
   "metadata": {},
   "source": [
    "## Tiền xử lý và gộp dữ liệu từ ngày 13/04/2021 - 19/05/2021"
   ]
  },
  {
   "cell_type": "code",
   "execution_count": 2,
   "metadata": {},
   "outputs": [],
   "source": [
    "def pretreatment(df, acceptable_limit):\n",
    "        df.drop('Bla', axis=1, inplace=True)\n",
    "        df.drop('Position', axis=1, inplace=True)\n",
    "        df.drop(df[df.isnull().sum(axis = 1) > acceptable_limit].index, inplace=True)"
   ]
  },
  {
   "cell_type": "code",
   "execution_count": 3,
   "metadata": {},
   "outputs": [],
   "source": [
    "def data(d):\n",
    "    df = pd.read_csv(d + '.csv', sep='\\t', index_col = False)\n",
    "    df.apply(lambda x: x.replace(',','',regex=True, inplace=True))\n",
    "    pretreatment(df,2)\n",
    "    num_col = ['Total_Cases', 'New_Cases', 'Total_Deaths', 'New_Deaths', \n",
    "           'Total_Recovered','New_Recovered', 'Active_Cases', 'Serious_Critical', \n",
    "           'Tot_Cases/1M_pop', 'Deaths/1M_pop', 'Total_Tests', 'Tests/1M_pop', 'Population']\n",
    "    for i in num_col:\n",
    "        df[i] = pd.to_numeric(df[i])\n",
    "    df.fillna(0, inplace = True)\n",
    "    df['Day'] = d\n",
    "    return df"
   ]
  },
  {
   "cell_type": "code",
   "execution_count": 4,
   "metadata": {},
   "outputs": [],
   "source": [
    "days = ['13-04-2021', '14-04-2021', '15-04-2021', '16-04-2021', '17-04-2021', '18-04-2021', '19-04-2021',\n",
    "       '20-04-2021', '21-04-2021', '22-04-2021', '23-04-2021', '24-04-2021', '25-04-2021', '26-04-2021',\n",
    "       '27-04-2021', '28-04-2021', '29-04-2021', '30-04-2021', '01-05-2021', '02-05-2021', '03-05-2021',\n",
    "       '04-05-2021', '05-05-2021', '06-05-2021', '07-05-2021', '08-05-2021', '09-05-2021', '10-05-2021',\n",
    "       '12-05-2021', '13-05-2021', '14-05-2021', '15-05-2021', '16-05-2021', '17-05-2021', '18-05-2021',\n",
    "       '19-05-2021']"
   ]
  },
  {
   "cell_type": "code",
   "execution_count": 5,
   "metadata": {},
   "outputs": [
    {
     "data": {
      "text/html": [
       "<div>\n",
       "<style scoped>\n",
       "    .dataframe tbody tr th:only-of-type {\n",
       "        vertical-align: middle;\n",
       "    }\n",
       "\n",
       "    .dataframe tbody tr th {\n",
       "        vertical-align: top;\n",
       "    }\n",
       "\n",
       "    .dataframe thead th {\n",
       "        text-align: right;\n",
       "    }\n",
       "</style>\n",
       "<table border=\"1\" class=\"dataframe\">\n",
       "  <thead>\n",
       "    <tr style=\"text-align: right;\">\n",
       "      <th></th>\n",
       "      <th>Country</th>\n",
       "      <th>Total_Cases</th>\n",
       "      <th>New_Cases</th>\n",
       "      <th>Total_Deaths</th>\n",
       "      <th>New_Deaths</th>\n",
       "      <th>Total_Recovered</th>\n",
       "      <th>New_Recovered</th>\n",
       "      <th>Active_Cases</th>\n",
       "      <th>Serious_Critical</th>\n",
       "      <th>Tot_Cases/1M_pop</th>\n",
       "      <th>Deaths/1M_pop</th>\n",
       "      <th>Total_Tests</th>\n",
       "      <th>Tests/1M_pop</th>\n",
       "      <th>Population</th>\n",
       "      <th>Region</th>\n",
       "      <th>Day</th>\n",
       "    </tr>\n",
       "  </thead>\n",
       "  <tbody>\n",
       "    <tr>\n",
       "      <th>0</th>\n",
       "      <td>China</td>\n",
       "      <td>90435</td>\n",
       "      <td>9.0</td>\n",
       "      <td>4636</td>\n",
       "      <td>0.0</td>\n",
       "      <td>85506</td>\n",
       "      <td>11.0</td>\n",
       "      <td>293</td>\n",
       "      <td>4.0</td>\n",
       "      <td>63</td>\n",
       "      <td>3.0</td>\n",
       "      <td>160000000</td>\n",
       "      <td>111163</td>\n",
       "      <td>1439323776</td>\n",
       "      <td>Asia</td>\n",
       "      <td>13-04-2021</td>\n",
       "    </tr>\n",
       "    <tr>\n",
       "      <th>1</th>\n",
       "      <td>USA</td>\n",
       "      <td>32070784</td>\n",
       "      <td>77720.0</td>\n",
       "      <td>577177</td>\n",
       "      <td>819.0</td>\n",
       "      <td>24626410</td>\n",
       "      <td>65554.0</td>\n",
       "      <td>6867197</td>\n",
       "      <td>9540.0</td>\n",
       "      <td>96446</td>\n",
       "      <td>1736.0</td>\n",
       "      <td>422126761</td>\n",
       "      <td>1269452</td>\n",
       "      <td>332526757</td>\n",
       "      <td>North America</td>\n",
       "      <td>13-04-2021</td>\n",
       "    </tr>\n",
       "    <tr>\n",
       "      <th>2</th>\n",
       "      <td>India</td>\n",
       "      <td>13871321</td>\n",
       "      <td>185248.0</td>\n",
       "      <td>172115</td>\n",
       "      <td>1026.0</td>\n",
       "      <td>12332688</td>\n",
       "      <td>82248.0</td>\n",
       "      <td>1366518</td>\n",
       "      <td>8944.0</td>\n",
       "      <td>9975</td>\n",
       "      <td>124.0</td>\n",
       "      <td>259207108</td>\n",
       "      <td>186394</td>\n",
       "      <td>1390642113</td>\n",
       "      <td>Asia</td>\n",
       "      <td>13-04-2021</td>\n",
       "    </tr>\n",
       "    <tr>\n",
       "      <th>3</th>\n",
       "      <td>Brazil</td>\n",
       "      <td>13601566</td>\n",
       "      <td>80157.0</td>\n",
       "      <td>358718</td>\n",
       "      <td>3687.0</td>\n",
       "      <td>12074798</td>\n",
       "      <td>117730.0</td>\n",
       "      <td>1168050</td>\n",
       "      <td>8318.0</td>\n",
       "      <td>63634</td>\n",
       "      <td>1678.0</td>\n",
       "      <td>28600000</td>\n",
       "      <td>133804</td>\n",
       "      <td>213745314</td>\n",
       "      <td>South America</td>\n",
       "      <td>13-04-2021</td>\n",
       "    </tr>\n",
       "    <tr>\n",
       "      <th>4</th>\n",
       "      <td>France</td>\n",
       "      <td>5106329</td>\n",
       "      <td>39113.0</td>\n",
       "      <td>99480</td>\n",
       "      <td>345.0</td>\n",
       "      <td>3972182</td>\n",
       "      <td>25998.0</td>\n",
       "      <td>1034667</td>\n",
       "      <td>5952.0</td>\n",
       "      <td>78094</td>\n",
       "      <td>1521.0</td>\n",
       "      <td>70448755</td>\n",
       "      <td>1077411</td>\n",
       "      <td>65387072</td>\n",
       "      <td>Europe</td>\n",
       "      <td>13-04-2021</td>\n",
       "    </tr>\n",
       "    <tr>\n",
       "      <th>...</th>\n",
       "      <td>...</td>\n",
       "      <td>...</td>\n",
       "      <td>...</td>\n",
       "      <td>...</td>\n",
       "      <td>...</td>\n",
       "      <td>...</td>\n",
       "      <td>...</td>\n",
       "      <td>...</td>\n",
       "      <td>...</td>\n",
       "      <td>...</td>\n",
       "      <td>...</td>\n",
       "      <td>...</td>\n",
       "      <td>...</td>\n",
       "      <td>...</td>\n",
       "      <td>...</td>\n",
       "      <td>...</td>\n",
       "    </tr>\n",
       "    <tr>\n",
       "      <th>5715</th>\n",
       "      <td>St. Vincent Grenadines</td>\n",
       "      <td>1949</td>\n",
       "      <td>2.0</td>\n",
       "      <td>12</td>\n",
       "      <td>0.0</td>\n",
       "      <td>1780</td>\n",
       "      <td>6.0</td>\n",
       "      <td>157</td>\n",
       "      <td>2.0</td>\n",
       "      <td>17519</td>\n",
       "      <td>108.0</td>\n",
       "      <td>47584</td>\n",
       "      <td>427718</td>\n",
       "      <td>111251</td>\n",
       "      <td>North America</td>\n",
       "      <td>19-05-2021</td>\n",
       "    </tr>\n",
       "    <tr>\n",
       "      <th>5716</th>\n",
       "      <td>Laos</td>\n",
       "      <td>1737</td>\n",
       "      <td>50.0</td>\n",
       "      <td>2</td>\n",
       "      <td>0.0</td>\n",
       "      <td>708</td>\n",
       "      <td>22.0</td>\n",
       "      <td>1027</td>\n",
       "      <td>0.0</td>\n",
       "      <td>236</td>\n",
       "      <td>0.3</td>\n",
       "      <td>227269</td>\n",
       "      <td>30844</td>\n",
       "      <td>7368283</td>\n",
       "      <td>Asia</td>\n",
       "      <td>19-05-2021</td>\n",
       "    </tr>\n",
       "    <tr>\n",
       "      <th>5717</th>\n",
       "      <td>Caribbean Netherlands</td>\n",
       "      <td>1605</td>\n",
       "      <td>1.0</td>\n",
       "      <td>17</td>\n",
       "      <td>0.0</td>\n",
       "      <td>1570</td>\n",
       "      <td>1.0</td>\n",
       "      <td>18</td>\n",
       "      <td>0.0</td>\n",
       "      <td>60710</td>\n",
       "      <td>643.0</td>\n",
       "      <td>8550</td>\n",
       "      <td>323410</td>\n",
       "      <td>26437</td>\n",
       "      <td>North America</td>\n",
       "      <td>19-05-2021</td>\n",
       "    </tr>\n",
       "    <tr>\n",
       "      <th>5718</th>\n",
       "      <td>Antigua and Barbuda</td>\n",
       "      <td>1252</td>\n",
       "      <td>1.0</td>\n",
       "      <td>42</td>\n",
       "      <td>0.0</td>\n",
       "      <td>1184</td>\n",
       "      <td>2.0</td>\n",
       "      <td>26</td>\n",
       "      <td>2.0</td>\n",
       "      <td>12692</td>\n",
       "      <td>426.0</td>\n",
       "      <td>16700</td>\n",
       "      <td>169297</td>\n",
       "      <td>98643</td>\n",
       "      <td>North America</td>\n",
       "      <td>19-05-2021</td>\n",
       "    </tr>\n",
       "    <tr>\n",
       "      <th>5719</th>\n",
       "      <td>Cayman Islands</td>\n",
       "      <td>574</td>\n",
       "      <td>9.0</td>\n",
       "      <td>2</td>\n",
       "      <td>0.0</td>\n",
       "      <td>554</td>\n",
       "      <td>7.0</td>\n",
       "      <td>18</td>\n",
       "      <td>0.0</td>\n",
       "      <td>8645</td>\n",
       "      <td>30.0</td>\n",
       "      <td>94773</td>\n",
       "      <td>1427304</td>\n",
       "      <td>66400</td>\n",
       "      <td>North America</td>\n",
       "      <td>19-05-2021</td>\n",
       "    </tr>\n",
       "  </tbody>\n",
       "</table>\n",
       "<p>5720 rows × 16 columns</p>\n",
       "</div>"
      ],
      "text/plain": [
       "                     Country  Total_Cases  New_Cases  Total_Deaths  \\\n",
       "0                      China        90435        9.0          4636   \n",
       "1                        USA     32070784    77720.0        577177   \n",
       "2                      India     13871321   185248.0        172115   \n",
       "3                     Brazil     13601566    80157.0        358718   \n",
       "4                     France      5106329    39113.0         99480   \n",
       "...                      ...          ...        ...           ...   \n",
       "5715  St. Vincent Grenadines         1949        2.0            12   \n",
       "5716                    Laos         1737       50.0             2   \n",
       "5717   Caribbean Netherlands         1605        1.0            17   \n",
       "5718     Antigua and Barbuda         1252        1.0            42   \n",
       "5719          Cayman Islands          574        9.0             2   \n",
       "\n",
       "      New_Deaths  Total_Recovered  New_Recovered  Active_Cases  \\\n",
       "0            0.0            85506           11.0           293   \n",
       "1          819.0         24626410        65554.0       6867197   \n",
       "2         1026.0         12332688        82248.0       1366518   \n",
       "3         3687.0         12074798       117730.0       1168050   \n",
       "4          345.0          3972182        25998.0       1034667   \n",
       "...          ...              ...            ...           ...   \n",
       "5715         0.0             1780            6.0           157   \n",
       "5716         0.0              708           22.0          1027   \n",
       "5717         0.0             1570            1.0            18   \n",
       "5718         0.0             1184            2.0            26   \n",
       "5719         0.0              554            7.0            18   \n",
       "\n",
       "      Serious_Critical  Tot_Cases/1M_pop  Deaths/1M_pop  Total_Tests  \\\n",
       "0                  4.0                63            3.0    160000000   \n",
       "1               9540.0             96446         1736.0    422126761   \n",
       "2               8944.0              9975          124.0    259207108   \n",
       "3               8318.0             63634         1678.0     28600000   \n",
       "4               5952.0             78094         1521.0     70448755   \n",
       "...                ...               ...            ...          ...   \n",
       "5715               2.0             17519          108.0        47584   \n",
       "5716               0.0               236            0.3       227269   \n",
       "5717               0.0             60710          643.0         8550   \n",
       "5718               2.0             12692          426.0        16700   \n",
       "5719               0.0              8645           30.0        94773   \n",
       "\n",
       "      Tests/1M_pop  Population         Region         Day  \n",
       "0           111163  1439323776           Asia  13-04-2021  \n",
       "1          1269452   332526757  North America  13-04-2021  \n",
       "2           186394  1390642113           Asia  13-04-2021  \n",
       "3           133804   213745314  South America  13-04-2021  \n",
       "4          1077411    65387072         Europe  13-04-2021  \n",
       "...            ...         ...            ...         ...  \n",
       "5715        427718      111251  North America  19-05-2021  \n",
       "5716         30844     7368283           Asia  19-05-2021  \n",
       "5717        323410       26437  North America  19-05-2021  \n",
       "5718        169297       98643  North America  19-05-2021  \n",
       "5719       1427304       66400  North America  19-05-2021  \n",
       "\n",
       "[5720 rows x 16 columns]"
      ]
     },
     "execution_count": 5,
     "metadata": {},
     "output_type": "execute_result"
    }
   ],
   "source": [
    "df = data(days[0])\n",
    "for d in days[1:]:\n",
    "    df = pd.concat([df,data(d)])\n",
    "df.to_csv('model_data.csv', index = False)\n",
    "pd.read_csv('model_data.csv')"
   ]
  },
  {
   "cell_type": "markdown",
   "metadata": {},
   "source": [
    "## Tách tập train, test"
   ]
  },
  {
   "cell_type": "code",
   "execution_count": 6,
   "metadata": {},
   "outputs": [],
   "source": [
    "y = df['New_Cases']\n",
    "X = df.drop('New_Cases', axis = 1)"
   ]
  },
  {
   "cell_type": "code",
   "execution_count": 7,
   "metadata": {},
   "outputs": [],
   "source": [
    "train_X, test_X, train_y, test_y = train_test_split(X, y, test_size=0.2, random_state=0)"
   ]
  },
  {
   "cell_type": "code",
   "execution_count": 8,
   "metadata": {},
   "outputs": [],
   "source": [
    "train_data = train_X.copy()\n",
    "train_data['New_Cases'] = train_y.copy()"
   ]
  },
  {
   "cell_type": "code",
   "execution_count": 9,
   "metadata": {},
   "outputs": [],
   "source": [
    "train_data.to_csv('train_data.csv', index = False)\n",
    "test_X.to_csv('test_X.csv', index = False)\n",
    "test_y.to_csv('test_y.csv', index = False)"
   ]
  },
  {
   "cell_type": "code",
   "execution_count": 10,
   "metadata": {},
   "outputs": [],
   "source": [
    "train_df = pd.read_csv('train_data.csv')"
   ]
  },
  {
   "cell_type": "markdown",
   "metadata": {},
   "source": [
    "## Tách tập train, validation"
   ]
  },
  {
   "cell_type": "code",
   "execution_count": 11,
   "metadata": {},
   "outputs": [],
   "source": [
    "y = train_df['New_Cases']\n",
    "X = train_df.drop('New_Cases', axis = 1)"
   ]
  },
  {
   "cell_type": "code",
   "execution_count": 12,
   "metadata": {},
   "outputs": [],
   "source": [
    "train_X, val_X, train_y, val_y = train_test_split(X, y, test_size=0.2, random_state=0)"
   ]
  },
  {
   "cell_type": "markdown",
   "metadata": {},
   "source": [
    "## Preprocessing\n",
    "- Bỏ các cột `Country`, `Region`, `Day`\n",
    "- Class `ColAdderDropper` ở dưới sẽ thực hiện xóa các cột đó"
   ]
  },
  {
   "cell_type": "code",
   "execution_count": 13,
   "metadata": {},
   "outputs": [],
   "source": [
    "class ColAdderDropper(TransformerMixin,BaseEstimator):\n",
    "    def __init__(self, dropcols=None):\n",
    "        \"\"\"Encode, add, drop columns\"\"\"\n",
    "        self.dropcols = dropcols\n",
    "    def fit(self, X_df, y=None):\n",
    "        return self\n",
    "    def transform(self, X_df, y=None):\n",
    "        transform_df = X_df.copy()\n",
    "        transform_df.drop(self.dropcols, axis=1, inplace=True)\n",
    "        return transform_df"
   ]
  },
  {
   "cell_type": "markdown",
   "metadata": {},
   "source": [
    "## Modeling\n",
    "- Sử dụng mô hình `Linear Regression` và `SVM` để dự đoán"
   ]
  },
  {
   "cell_type": "markdown",
   "metadata": {},
   "source": [
    "### Linear Regression"
   ]
  },
  {
   "cell_type": "code",
   "execution_count": 14,
   "metadata": {},
   "outputs": [],
   "source": [
    "eadc = ColAdderDropper(dropcols = ['Country', 'Region', 'Day'])\n",
    "scaler = StandardScaler()"
   ]
  },
  {
   "cell_type": "code",
   "execution_count": 15,
   "metadata": {},
   "outputs": [],
   "source": [
    "linear = LinearRegression()\n",
    "linear_pipe = make_pipeline(eadc,scaler,linear)"
   ]
  },
  {
   "cell_type": "code",
   "execution_count": 16,
   "metadata": {
    "scrolled": true
   },
   "outputs": [
    {
     "name": "stdout",
     "output_type": "stream",
     "text": [
      "Train score: 0.917399159577572\n",
      "Validation score: 0.9364471181538294\n"
     ]
    }
   ],
   "source": [
    "linear_pipe.fit(train_X, train_y)\n",
    "print('Train score:',linear_pipe.score(train_X, train_y))\n",
    "print('Validation score:',linear_pipe.score(val_X, val_y))"
   ]
  },
  {
   "cell_type": "markdown",
   "metadata": {},
   "source": [
    "### SVM"
   ]
  },
  {
   "cell_type": "code",
   "execution_count": 17,
   "metadata": {},
   "outputs": [
    {
     "name": "stdout",
     "output_type": "stream",
     "text": [
      "linear\n",
      "0.2\n",
      "0.0475794270434825 0.04916193665755608\n",
      "\n",
      "0.5\n",
      "0.12942910860407386 0.13226748130479837\n",
      "\n",
      "0.8\n",
      "0.17879303064470375 0.18103309393135447\n",
      "\n",
      "1.0\n",
      "0.21603002018884054 0.21765580048773436\n",
      "\n",
      "poly\n",
      "0.2\n",
      "0.7101362956588412 0.7505886319325619\n",
      "\n",
      "0.5\n",
      "0.7825041584562493 0.834675398582085\n",
      "\n",
      "0.8\n",
      "0.8064766102654795 0.8561577240956271\n",
      "\n",
      "1.0\n",
      "0.8198026637571022 0.8654004575021833\n",
      "\n",
      "rbf\n",
      "0.2\n",
      "-0.024929708590829325 -0.026120204773745437\n",
      "\n",
      "0.5\n",
      "-0.02400751017688152 -0.02523797455383936\n",
      "\n",
      "0.8\n",
      "-0.022979511138755404 -0.024254948860073178\n",
      "\n",
      "1.0\n",
      "-0.022371283147185173 -0.02367264133738134\n",
      "\n",
      "sigmoid\n",
      "0.2\n",
      "-0.02325969600619815 -0.02445242521910318\n",
      "\n",
      "0.5\n",
      "-0.01986428837873966 -0.021099424453555837\n",
      "\n",
      "0.8\n",
      "-0.01646367157892481 -0.017747186629987866\n",
      "\n",
      "1.0\n",
      "-0.01421364326780128 -0.015527205477055661\n",
      "\n"
     ]
    }
   ],
   "source": [
    "svr = svm.SVR()\n",
    "\n",
    "full_pipeline = Pipeline([('eadc',eadc),('standard', StandardScaler()), ('svr',svr)])\n",
    "\n",
    "svr_train_scores, svr_val_scores = [], []\n",
    "c_s = [0.2, 0.5, 0.8, 1.0]\n",
    "best_val_score = -float('inf')\n",
    "best_c_svr = None\n",
    "best_k_svr = None\n",
    "\n",
    "for k in ['linear','poly','rbf','sigmoid']:\n",
    "    print(k)\n",
    "    for c in c_s:\n",
    "        print(c)\n",
    "        full_pipeline.set_params(svr__C = c, svr__kernel = k)\n",
    "        full_pipeline.fit(train_X, train_y)\n",
    "        train_score = full_pipeline.score(train_X, train_y)\n",
    "        val_score = full_pipeline.score(val_X, val_y)\n",
    "        print(train_score, val_score)\n",
    "        svr_train_scores.append(train_score)\n",
    "        svr_val_scores.append(val_score)\n",
    "        if best_val_score < val_score:\n",
    "            best_val_score = val_score\n",
    "            best_c_svr = c\n",
    "            best_k_svr = k\n",
    "        print()"
   ]
  },
  {
   "cell_type": "code",
   "execution_count": 18,
   "metadata": {},
   "outputs": [
    {
     "data": {
      "text/plain": [
       "0.8654004575021833"
      ]
     },
     "execution_count": 18,
     "metadata": {},
     "output_type": "execute_result"
    }
   ],
   "source": [
    "best_val_score"
   ]
  },
  {
   "cell_type": "markdown",
   "metadata": {},
   "source": [
    "### Lấy mô hình tốt nhất train cho toàn tập train + validation\n",
    "- Ta thấy mô hình `Linear Regression` cho kết quả trên tập validation cao hơn vì vậy chọn mô hình này"
   ]
  },
  {
   "cell_type": "code",
   "execution_count": 19,
   "metadata": {},
   "outputs": [
    {
     "data": {
      "text/plain": [
       "Pipeline(steps=[('coladderdropper',\n",
       "                 ColAdderDropper(dropcols=['Country', 'Region', 'Day'])),\n",
       "                ('standardscaler', StandardScaler()),\n",
       "                ('linearregression', LinearRegression())])"
      ]
     },
     "execution_count": 19,
     "metadata": {},
     "output_type": "execute_result"
    }
   ],
   "source": [
    "eadc = ColAdderDropper(dropcols = ['Country', 'Region', 'Day'])\n",
    "scaler = StandardScaler()\n",
    "linreg = LinearRegression()\n",
    "full_pipeline = make_pipeline(eadc,scaler,linreg)\n",
    "full_pipeline.fit(X, y)"
   ]
  },
  {
   "cell_type": "markdown",
   "metadata": {},
   "source": [
    "### Đánh giá mô hình"
   ]
  },
  {
   "cell_type": "code",
   "execution_count": 20,
   "metadata": {},
   "outputs": [],
   "source": [
    "test_X = pd.read_csv('test_X.csv')\n",
    "test_y = pd.read_csv('test_y.csv')"
   ]
  },
  {
   "cell_type": "code",
   "execution_count": 21,
   "metadata": {},
   "outputs": [
    {
     "data": {
      "text/plain": [
       "0.9148098882375496"
      ]
     },
     "execution_count": 21,
     "metadata": {},
     "output_type": "execute_result"
    }
   ],
   "source": [
    "full_pipeline.score(test_X, test_y)"
   ]
  }
 ],
 "metadata": {
  "kernelspec": {
   "display_name": "Python 3",
   "language": "python",
   "name": "python3"
  },
  "language_info": {
   "codemirror_mode": {
    "name": "ipython",
    "version": 3
   },
   "file_extension": ".py",
   "mimetype": "text/x-python",
   "name": "python",
   "nbconvert_exporter": "python",
   "pygments_lexer": "ipython3",
   "version": "3.8.5"
  }
 },
 "nbformat": 4,
 "nbformat_minor": 4
}
